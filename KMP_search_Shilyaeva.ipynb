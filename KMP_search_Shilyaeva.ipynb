{
 "cells": [
  {
   "cell_type": "code",
   "execution_count": null,
   "id": "e45cf7aa",
   "metadata": {},
   "outputs": [],
   "source": [
    "def PrefixFunction(P):\n",
    "    m = len(P)\n",
    "    pi = [0] * m\n",
    "    j = 0\n",
    "\n",
    "    for i in range(1, m):\n",
    "        #move j back while mismatch happens\n",
    "        while j > 0 and P[i] != P[j]:\n",
    "            j = pi[j - 1]\n",
    "        #if characters match, extend the current prefix\n",
    "        if P[i] == P[j]:\n",
    "            j += 1\n",
    "        #store the current length of the matched prefix\n",
    "        pi[i] = j\n",
    "\n",
    "    return pi\n",
    "\n",
    "\n",
    "def KMP_Search(P: str, T: str):\n",
    "    n = len(T)\n",
    "    m = len(P)\n",
    "    pi = PrefixFunction(P)  \n",
    "    j = 0\n",
    "    occurrences = []  #list to store starting indexes of matches\n",
    "\n",
    "    for i in range(n):\n",
    "        #if mismatch, follow the prefix table to shorten j\n",
    "        while j > 0 and T[i] != P[j]:\n",
    "            j = pi[j - 1]\n",
    "        #if characters match, move both pointers\n",
    "        if T[i] == P[j]:\n",
    "            j += 1\n",
    "        #if we found a complete match of pattern\n",
    "        if j == m:\n",
    "            occurrences.append(i - m + 1)  # record starting position\n",
    "            j = pi[j - 1] \n",
    "\n",
    "    return occurrences\n"
   ]
  }
 ],
 "metadata": {
  "kernelspec": {
   "display_name": "my_env",
   "language": "python",
   "name": "python3"
  },
  "language_info": {
   "codemirror_mode": {
    "name": "ipython",
    "version": 3
   },
   "file_extension": ".py",
   "mimetype": "text/x-python",
   "name": "python",
   "nbconvert_exporter": "python",
   "pygments_lexer": "ipython3",
   "version": "3.10.16"
  }
 },
 "nbformat": 4,
 "nbformat_minor": 5
}
